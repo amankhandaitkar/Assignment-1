{
 "cells": [
  {
   "cell_type": "markdown",
   "id": "aebc2aad",
   "metadata": {},
   "source": [
    "# 1. In the below elements which of them are values or an expression? eg:- values can be integer or string and expressions will be mathematical operators.\n",
    "\n",
    "Ans:    \n",
    "\n",
    "        Values \n",
    "\n",
    "        'hello'=(String Value)\n",
    "        -87.8 = (Floating Numbers)\n",
    "         6 = (Integer Value)\n",
    "        \n",
    "        Expression\n",
    "        \n",
    "        - = (Subtraction Operator)\n",
    "        / = (Division Operator)\n",
    "        + = (Addition Operator)\n",
    "        * = (Multiplication Operator)\n",
    "        \n",
    "        Note = The '-'symbol can act like both unary negation operator and a minus sign.   "
   ]
  },
  {
   "cell_type": "markdown",
   "id": "3d65fa03",
   "metadata": {},
   "source": [
    "# 2. What is the difference between string and variable?\n",
    "\n",
    "Ans:  \n",
    "\n",
    "        String = A string is a sequence of characters such as letters, numbers, or symbols. For example, \"hello\" and \"123\" \n",
    "        are strings.\n",
    "        \n",
    "        Variables = A variable is a named container that can hold different values. It is like a storage location in a computer's memory. Variables can hold various types of data, including strings. They allow us to store and manipulate values in our programs."
   ]
  },
  {
   "cell_type": "markdown",
   "id": "f8f7ce52",
   "metadata": {},
   "source": [
    "# 3. Describe three different data types.\n",
    "\n",
    "Ans: \n",
    "      \n",
    "      1). Integers(int):\n",
    "                        The integer is a datatype represent whole number withot decimal.\n",
    "                      It includes both positive and negative number.\n",
    "                      \n",
    "                        \n",
    "     2). floating-points(float):\n",
    "                                 The floating point data represent data with decimal.\n",
    "                                 \n",
    "     3). Strings(str):\n",
    "                         Sting data type represent sequence of character such a letters, characters, digits and symbols.\n",
    "                         For example: \"Hello world\", '123', \"how are you?\"\n",
    "                         "
   ]
  },
  {
   "cell_type": "markdown",
   "id": "321dff8f",
   "metadata": {},
   "source": [
    "# 4. What is an expression made up of? What do all expressions do?\n",
    "\n",
    "Ans:  An expression is a combination of literals, variables, operators, and function calls that produce a single value. It represents a computation or a calculation and is evaluated to yield a result. Expressions can be as simple as a single constant value or as complex as a combination of multiple operations and sub-expressions.\n",
    "\n",
    "Components of an expression:\n",
    "\n",
    "1).Literals: Constants or fixed values that are explicitly written in the code. \n",
    "For example, 42 and \"Hello\" are literals representing an integer and a string, respectively.\n",
    "\n",
    "2).Variables: Named storage locations that hold values during the program's execution. Variables are used to store and manipulate data. \n",
    "For example, x and y could be variables representing numerical values.\n",
    "\n",
    "3).Operators: Symbols or keywords that represent specific operations to be performed on the operands (variables, literals, or sub-expressions).\n",
    "Examples of operators include + (addition), - (subtraction), * (multiplication), / (division), = (assignment), and more.\n",
    "\n",
    "4).Function calls: Invoking a function to perform specific tasks or computations. Functions can take arguments (inputs) and return a result. The result of a function call can also be part of an expression."
   ]
  },
  {
   "cell_type": "markdown",
   "id": "eef2df8f",
   "metadata": {},
   "source": [
    "# 5. This assignment statements, like spam = 10. What is the difference between an expression and a statement?\n",
    "\n",
    "Ans:  \n",
    "\n",
    "1).Expression:\n",
    "An expression is a combination of literals, variables, operators, and function calls that produce a single value. Expressions are meant to be evaluated to yield a result. They can be as simple as a single value or as complex as a combination of multiple operations. In Python, expressions can be used in various contexts, such as in assignments, function arguments, conditionals, and loops.\n",
    "\n",
    "\n",
    "                 \n",
    "2).Statement:\n",
    "A statement is a complete instruction that performs some action or task. Statements can contain expressions as part of their structure, but they are not meant to produce a value. Instead, they carry out an operation or define a behavior in the program. \n",
    "\n",
    "\n"
   ]
  },
  {
   "cell_type": "code",
   "execution_count": null,
   "id": "53377a35",
   "metadata": {},
   "outputs": [],
   "source": []
  },
  {
   "cell_type": "markdown",
   "id": "5146d4bb",
   "metadata": {},
   "source": [
    "\n",
    "# 6. After running the following code, what does the variable bacon contain?\n",
    "bacon = 22\n",
    "\n",
    "bacon + 1\n",
    "\n",
    "\n",
    "Ans: After running the given code the variable bacon will still contain the value of 22.\n",
    "\n",
    "      "
   ]
  },
  {
   "cell_type": "code",
   "execution_count": 3,
   "id": "40eb07d7",
   "metadata": {},
   "outputs": [
    {
     "name": "stdout",
     "output_type": "stream",
     "text": [
      "22\n"
     ]
    }
   ],
   "source": [
    "bacon = 22\n",
    "bacon + 1\n",
    "print(bacon) "
   ]
  },
  {
   "cell_type": "markdown",
   "id": "7395c5bc",
   "metadata": {},
   "source": [
    "# 7. What should the values of the following two terms be?\n",
    "'spam' + 'spamspam'\n",
    "'spam' * 3\n",
    "\n",
    "Ans: 'spam' + 'spamspam': This is a string concatenation operation, which combines the strings 'spam' and 'spamspam' into one string.\n",
    "Result: 'spamspamspam'\n",
    "\n",
    "'spam' * 3: This is a string repetition operation, which repeats the string 'spam' three times.\n",
    "Result: 'spamspamspam'\n",
    "\n"
   ]
  },
  {
   "cell_type": "code",
   "execution_count": 6,
   "id": "938b6474",
   "metadata": {},
   "outputs": [
    {
     "name": "stdout",
     "output_type": "stream",
     "text": [
      "spamspamspam\n",
      "spamspamspam\n"
     ]
    }
   ],
   "source": [
    "#example\n",
    "# String concatenation\n",
    "result1 = 'spam' + 'spamspam'\n",
    "print(result1)  \n",
    "\n",
    "# String repetition\n",
    "result2 = 'spam' * 3\n",
    "print(result2)  \n"
   ]
  },
  {
   "cell_type": "markdown",
   "id": "45abcb11",
   "metadata": {},
   "source": [
    "# 8. Why is eggs a valid variable name while 100 is invalid?\n",
    "\n",
    "Ans: In python and  other language there have some rules and restriction.\n",
    "     1).Variable cannot start with numbers and 100 is a number.\n",
    "     2).They must start with underscore (_) and lettes (upper case and lower case).\n",
    "     3).After first letter they can contain letter(a-z,A-z),number(100),underscore(_)\n",
    "     \n",
    "     Thats why eggs is a valid variable name and 100 is invalid.\n",
    "      \n"
   ]
  },
  {
   "cell_type": "code",
   "execution_count": null,
   "id": "7bc44105",
   "metadata": {},
   "outputs": [],
   "source": []
  }
 ],
 "metadata": {
  "kernelspec": {
   "display_name": "Python 3 (ipykernel)",
   "language": "python",
   "name": "python3"
  },
  "language_info": {
   "codemirror_mode": {
    "name": "ipython",
    "version": 3
   },
   "file_extension": ".py",
   "mimetype": "text/x-python",
   "name": "python",
   "nbconvert_exporter": "python",
   "pygments_lexer": "ipython3",
   "version": "3.11.3"
  }
 },
 "nbformat": 4,
 "nbformat_minor": 5
}
